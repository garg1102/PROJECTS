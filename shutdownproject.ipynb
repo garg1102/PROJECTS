{
 "cells": [
  {
   "cell_type": "code",
   "execution_count": 1,
   "metadata": {},
   "outputs": [],
   "source": [
    "import os"
   ]
  },
  {
   "cell_type": "code",
   "execution_count": 2,
   "metadata": {},
   "outputs": [],
   "source": [
    "import pyttsx3"
   ]
  },
  {
   "cell_type": "code",
   "execution_count": 3,
   "metadata": {},
   "outputs": [],
   "source": [
    "import speech_recognition as sr"
   ]
  },
  {
   "cell_type": "code",
   "execution_count": 5,
   "metadata": {},
   "outputs": [
    {
     "name": "stdout",
     "output_type": "stream",
     "text": [
      "Listening\n",
      "RECOGNIZING\n",
      "the query is printed= yes '\n",
      "SHUTTING DOWN THE COMPUTER\n"
     ]
    }
   ],
   "source": [
    "class shutdown:\n",
    "    def inputcommand(self):\n",
    "        s=sr.Recognizer()\n",
    "        with sr.Microphone() as source:\n",
    "            print('Listening')\n",
    "            s.pause_threshold=0.7\n",
    "            audio=s.listen(source)\n",
    "            try:\n",
    "                print(\"RECOGNIZING\")\n",
    "                query=s.recognize_google(audio,language=\"en-in\")\n",
    "                print(\"the query is printed=\",query,\"'\")\n",
    "            except Exception as e:\n",
    "                print(e)\n",
    "                print(\"say that again sir\")\n",
    "                return None\n",
    "        return query\n",
    "    def Speak(self,audio):\n",
    "        engine=pyttsx3.init()\n",
    "#         voices=engine.getProperty('voices')\n",
    "#         engine.setProperty('voice',voices[1].id)\n",
    "        engine.say(audio)\n",
    "        engine.runAndWait()\n",
    "    def quitItSelf(self):\n",
    "        self.Speak(\"Do you want to Turn off the system sir\")\n",
    "        take=self.inputcommand()\n",
    "        choice=take\n",
    "        if 'yes' in choice:\n",
    "            print('SHUTTING DOWN THE COMPUTER')\n",
    "            self.Speak(\"SHUTTING DOWN THE SYSTEM\")\n",
    "            os.system(\"shutdown /s /t 30\")\n",
    "        if 'no' in choice:\n",
    "            print(\"Have a nice day and continue your work\")\n",
    "            self.Speak(\"Not shutting down\")\n",
    "        \n",
    "if __name__=='__main__':\n",
    "    g=shutdown()\n",
    "    g.quitItSelf()"
   ]
  },
  {
   "cell_type": "code",
   "execution_count": null,
   "metadata": {},
   "outputs": [],
   "source": []
  }
 ],
 "metadata": {
  "kernelspec": {
   "display_name": "Python 3",
   "language": "python",
   "name": "python3"
  },
  "language_info": {
   "codemirror_mode": {
    "name": "ipython",
    "version": 3
   },
   "file_extension": ".py",
   "mimetype": "text/x-python",
   "name": "python",
   "nbconvert_exporter": "python",
   "pygments_lexer": "ipython3",
   "version": "3.8.5"
  }
 },
 "nbformat": 4,
 "nbformat_minor": 4
}
