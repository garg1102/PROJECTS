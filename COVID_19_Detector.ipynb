{
  "nbformat": 4,
  "nbformat_minor": 0,
  "metadata": {
    "colab": {
      "name": "COVID-19 Detector",
      "provenance": [],
      "collapsed_sections": [],
      "include_colab_link": true
    },
    "kernelspec": {
      "name": "python3",
      "display_name": "Python 3"
    }
  },
  "cells": [
    {
      "cell_type": "markdown",
      "metadata": {
        "id": "view-in-github",
        "colab_type": "text"
      },
      "source": [
        "<a href=\"https://colab.research.google.com/github/garg1102/PROJECTS/blob/main/COVID_19_Detector.ipynb\" target=\"_parent\"><img src=\"https://colab.research.google.com/assets/colab-badge.svg\" alt=\"Open In Colab\"/></a>"
      ]
    },
    {
      "cell_type": "code",
      "metadata": {
        "id": "jcSTCf3Xp2f9"
      },
      "source": [
        "# Dataset : http://cb.lk/covid_19\n",
        " \n",
        "!wget http://cb.lk/covid_19"
      ],
      "execution_count": null,
      "outputs": []
    },
    {
      "cell_type": "code",
      "metadata": {
        "id": "7FPSlY63qFJ6"
      },
      "source": [
        "!unzip covid_19"
      ],
      "execution_count": null,
      "outputs": []
    },
    {
      "cell_type": "markdown",
      "metadata": {
        "id": "0RyW0AY18tl7"
      },
      "source": [
        "#THE BELOW CELL DEFINES PATH FOR OUT IMPORTED IMAGES\n"
      ]
    },
    {
      "cell_type": "code",
      "metadata": {
        "id": "klZeEzJSqUvQ"
      },
      "source": [
        "TRAIN_PATH = \"CovidDataset/Train\"\n",
        "VAL_PATH = \"CovidDataset/Test\"\n",
        "\n"
      ],
      "execution_count": null,
      "outputs": []
    },
    {
      "cell_type": "markdown",
      "metadata": {
        "id": "JGVFCIMd87wY"
      },
      "source": [
        "#IMPORTING THE LIBRARIES REQUIRED TO RUN THE SCANS AND DATA\n"
      ]
    },
    {
      "cell_type": "code",
      "metadata": {
        "id": "1s_VfacWrA-E"
      },
      "source": [
        "import numpy as np\n",
        "import matplotlib.pyplot as plt\n",
        "import keras\n",
        "from keras.layers import *\n",
        "from keras.models import * \n",
        "from keras.preprocessing import image"
      ],
      "execution_count": null,
      "outputs": []
    },
    {
      "cell_type": "code",
      "metadata": {
        "id": "2vRL0YMtrIsn"
      },
      "source": [
        "# CNN Based Model in Keras\n",
        "\n",
        "model = Sequential()\n",
        "model.add(Conv2D(32,kernel_size=(3,3),activation='relu',input_shape=(224,224,3)))\n",
        "model.add(Conv2D(64,(3,3),activation='relu'))\n",
        "model.add(MaxPooling2D(pool_size=(2,2)))\n",
        "model.add(Dropout(0.25))\n",
        "\n",
        "model.add(Conv2D(64,(3,3),activation='relu'))\n",
        "model.add(MaxPooling2D(pool_size=(2,2)))\n",
        "model.add(Dropout(0.25))\n",
        "\n",
        "model.add(Conv2D(128,(3,3),activation='relu'))\n",
        "model.add(MaxPooling2D(pool_size=(2,2)))\n",
        "model.add(Dropout(0.25))\n",
        "\n",
        "model.add(Flatten())\n",
        "model.add(Dense(64,activation='relu'))\n",
        "model.add(Dropout(0.5))\n",
        "model.add(Dense(1,activation='sigmoid'))\n",
        "\n",
        "model.compile(loss=keras.losses.binary_crossentropy,optimizer='adam',metrics=['accuracy'])"
      ],
      "execution_count": null,
      "outputs": []
    },
    {
      "cell_type": "code",
      "metadata": {
        "id": "gNxzu23Ouxcp"
      },
      "source": [
        "model.summary()"
      ],
      "execution_count": null,
      "outputs": []
    },
    {
      "cell_type": "code",
      "metadata": {
        "id": "2nnojiosu2YM"
      },
      "source": [
        "# Train from scratch\n",
        "train_datagen = image.ImageDataGenerator(\n",
        "    rescale = 1./255,\n",
        "    shear_range = 0.2,\n",
        "    zoom_range = 0.2,\n",
        "    horizontal_flip = True,\n",
        ")\n",
        "\n",
        "test_dataset = image.ImageDataGenerator(rescale=1./255)"
      ],
      "execution_count": null,
      "outputs": []
    },
    {
      "cell_type": "code",
      "metadata": {
        "id": "iLC3vWiHv2s8"
      },
      "source": [
        "train_generator = train_datagen.flow_from_directory(\n",
        "    'CovidDataset/Train',\n",
        "    target_size = (224,224),\n",
        "    batch_size = 32,\n",
        "    class_mode = 'binary')\n"
      ],
      "execution_count": null,
      "outputs": []
    },
    {
      "cell_type": "code",
      "metadata": {
        "id": "q_ov9LTgwQSg"
      },
      "source": [
        "train_generator.class_indices"
      ],
      "execution_count": null,
      "outputs": []
    },
    {
      "cell_type": "code",
      "metadata": {
        "id": "0RQ5LeuQwmxj"
      },
      "source": [
        "validation_generator = test_dataset.flow_from_directory(\n",
        "    'CovidDataset/Val',\n",
        "    target_size = (60,60),\n",
        "    batch_size = 32,\n",
        "    class_mode = 'binary')"
      ],
      "execution_count": null,
      "outputs": []
    },
    {
      "cell_type": "code",
      "metadata": {
        "id": "pGuVlZF5wZsh"
      },
      "source": [
        "hist = model.fit_generator(\n",
        "    train_generator,\n",
        "    steps_per_epoch=7,\n",
        "    epochs = 8,\n",
        "    validation_data = validation_generator,\n",
        "    validation_steps=2\n",
        ")"
      ],
      "execution_count": null,
      "outputs": []
    },
    {
      "cell_type": "code",
      "metadata": {
        "id": "oO31IcR5zIm3"
      },
      "source": [
        "# Class Activation Maps\n",
        "# Grad-CAM "
      ],
      "execution_count": null,
      "outputs": []
    },
    {
      "cell_type": "code",
      "metadata": {
        "id": "fTpdKm8Lxz6z"
      },
      "source": [
        "model.save(\"model_adv.h5\")"
      ],
      "execution_count": null,
      "outputs": []
    },
    {
      "cell_type": "code",
      "metadata": {
        "id": "euUcrMaCM24o"
      },
      "source": [
        "model.evaluate_generator(train_generator)"
      ],
      "execution_count": null,
      "outputs": []
    },
    {
      "cell_type": "code",
      "metadata": {
        "id": "_BK4VvfzNJcs"
      },
      "source": [
        "model.evaluate_generator(validation_generator)"
      ],
      "execution_count": null,
      "outputs": []
    },
    {
      "cell_type": "code",
      "metadata": {
        "id": "EYDJQE35NOU9"
      },
      "source": [
        "model= load_model(\"model_adv.h5\")"
      ],
      "execution_count": null,
      "outputs": []
    },
    {
      "cell_type": "code",
      "metadata": {
        "id": "4aEGiLZ-NcQ6"
      },
      "source": [
        "import os\n"
      ],
      "execution_count": null,
      "outputs": []
    },
    {
      "cell_type": "code",
      "metadata": {
        "id": "s3lJC5prNeFP"
      },
      "source": [
        "train_generator.class_indices"
      ],
      "execution_count": null,
      "outputs": []
    },
    {
      "cell_type": "code",
      "metadata": {
        "id": "11dVH5aENhwx"
      },
      "source": [
        "y_actual=[]\n",
        "y_test=[]\n"
      ],
      "execution_count": null,
      "outputs": []
    },
    {
      "cell_type": "code",
      "metadata": {
        "id": "7461LTW5NmHL"
      },
      "source": [
        "for i in os.listdir(\"./CovidDataset/Val/Normal/\"):\n",
        "  img=image.load_img(\"./CovidDataset/Val/Normal/\"+i,target_size=(224,224))\n",
        "  img=image.img_to_array(img)\n",
        "  img=np.expand_dims(img,axis=0)\n",
        "  p=model.predict_classes(img)\n",
        "  y_test.append(p[0,0])\n",
        "  y_actual.append(1)\n"
      ],
      "execution_count": null,
      "outputs": []
    },
    {
      "cell_type": "code",
      "metadata": {
        "id": "SjTwS1ynOab4"
      },
      "source": [
        "for i in os.listdir(\"./CovidDataset/Val/Covid/\"):\n",
        "  img=image.load_img(\"./CovidDataset/Val/Covid/\"+i,target_size=(224,224))\n",
        "  img=image.img_to_array(img)\n",
        "  img=np.expand_dims(img,axis=0)\n",
        "  p=model.predict_classes(img)\n",
        "  y_test.append(p[0,0])\n",
        "  y_actual.append(1)"
      ],
      "execution_count": null,
      "outputs": []
    },
    {
      "cell_type": "code",
      "metadata": {
        "id": "aW6YPI7RPM6P"
      },
      "source": [
        "y_actual=np.array(y_actual)\n",
        "y_test=np.array(y_test)"
      ],
      "execution_count": null,
      "outputs": []
    },
    {
      "cell_type": "code",
      "metadata": {
        "id": "09uhs3a3PUza"
      },
      "source": [
        "from sklearn.metrics import confusion_matrix\n"
      ],
      "execution_count": null,
      "outputs": []
    },
    {
      "cell_type": "code",
      "metadata": {
        "id": "XEh45-n3Pd0M"
      },
      "source": [
        "cm=confusion_matrix(y_actual,y_test)"
      ],
      "execution_count": null,
      "outputs": []
    },
    {
      "cell_type": "code",
      "metadata": {
        "id": "ECTBECyDP3bH"
      },
      "source": [
        "import seaborn as sns"
      ],
      "execution_count": null,
      "outputs": []
    },
    {
      "cell_type": "code",
      "metadata": {
        "id": "lwsZ_9UdP5QK"
      },
      "source": [
        "sns.heatmap(cm,cmap=\"plasma\",annot=True)"
      ],
      "execution_count": null,
      "outputs": []
    }
  ]
}